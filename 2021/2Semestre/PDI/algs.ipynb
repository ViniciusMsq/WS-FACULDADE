{
 "cells": [
  {
   "cell_type": "markdown",
   "id": "5d6e4844",
   "metadata": {},
   "source": [
    "# Calculando um RSA"
   ]
  },
  {
   "cell_type": "code",
   "execution_count": 1,
   "id": "52b09347",
   "metadata": {},
   "outputs": [
    {
     "name": "stdout",
     "output_type": "stream",
     "text": [
      "Enter the message to be encrypted: 1988\n",
      "Original Message is:  1988\n",
      "Encrypted Message is:  28.0\n"
     ]
    }
   ],
   "source": [
    "import math\n",
    " \n",
    "message = int(input(\"Enter the message to be encrypted: \")) \n",
    " \n",
    "p = 11\n",
    "q = 7\n",
    "e = 3\n",
    " \n",
    "n = p*q\n",
    " \n",
    "def encrypt(me):\n",
    "    en = math.pow(me,e)\n",
    "    c = en % n\n",
    "    print(\"Encrypted Message is: \", c)\n",
    "    return c\n",
    " \n",
    "print(\"Original Message is: \", message)\n",
    "c = encrypt(message)"
   ]
  },
  {
   "cell_type": "code",
   "execution_count": null,
   "id": "d0ad2dd8",
   "metadata": {},
   "outputs": [],
   "source": [
    "\n"
   ]
  },
  {
   "cell_type": "markdown",
   "id": "3d795432",
   "metadata": {},
   "source": [
    "# RSA por meio de uma biblioteca"
   ]
  },
  {
   "cell_type": "code",
   "execution_count": 1,
   "id": "c7997b5d",
   "metadata": {},
   "outputs": [
    {
     "name": "stdout",
     "output_type": "stream",
     "text": [
      "Mensagem criptografada b'\\'\\xab\\xb4\\xedHO\\x17\\xae\\xb5\\xe8\\xc6\\xff\\x96\\xc7\\xb7\\x1b\\x10h\\x9b\\xe5\\xc0\\xb8\\xd0p\\\\p(\\x86\\x08\\xcb\\xe3C\\x03\\xf0\\xe5\\x80?\\xbcS\\x1f5\\xf2\\x83(\\x98A\\xf1\\xc7s\\x90\\xe0mS\\x02\\xd9\\xc89\\xc7]\\xaat\\x08\\xe8\\xa6iB\\x15\\x16r\\x17\\x9cE\\x02\\x06w\\x88M\\xad\\xf2W2\\xe2\\x8f\\xce\\x12}X\\x08m]\\x9e\\xcf\\xf9\\x93\\x14\\x01C\\xb7\\x18N\\xe2$Ta/\\x1db\\x15\\x9a\\t\\xbc\\xe8\">\\x03\\xd9nm|\\xa0\\x1a\\' Bz\\xaa\\x90\\x95'\n",
      "Mensagem decriptografada Segurança da informação é legal\n"
     ]
    }
   ],
   "source": [
    "\n",
    "from Crypto.PublicKey import RSA\n",
    "from Crypto.Cipher import PKCS1_OAEP\n",
    "from Crypto.Signature import PKCS1_v1_5\n",
    "from Crypto import Random\n",
    "\n",
    "\n",
    "def newkeys(keysize):\n",
    "   random_generator = Random.new().read\n",
    "   key = RSA.generate(keysize, random_generator)\n",
    "   private, public = key, key.publickey()\n",
    "   return public, private\n",
    "\n",
    "def encrypt(message, pub_key):\n",
    "   cipher = PKCS1_OAEP.new(pub_key)\n",
    "   return cipher.encrypt(message.encode(\"utf-8\"))\n",
    "\n",
    "\n",
    "pub,priv = newkeys(1024)\n",
    "criptografado = encrypt(\"Segurança da informação é legal\",pub)\n",
    "print('Mensagem criptografada', criptografado)\n",
    "\n",
    "cipher = PKCS1_OAEP.new(priv)\n",
    "\n",
    "msg_decriptografada = cipher.decrypt(criptografado).decode()\n",
    "print('Mensagem decriptografada',msg_decriptografada)\n"
   ]
  },
  {
   "cell_type": "markdown",
   "id": "1e67b3e6",
   "metadata": {},
   "source": [
    "# Hash md5"
   ]
  },
  {
   "cell_type": "code",
   "execution_count": 8,
   "id": "016dcc5f",
   "metadata": {},
   "outputs": [
    {
     "name": "stdout",
     "output_type": "stream",
     "text": [
      "The hexadecimal equivalent of hash is : ac7dc5092c161c8d7a4a5993b2f2ffb7\n"
     ]
    }
   ],
   "source": [
    " \n",
    "import hashlib\n",
    "  \n",
    "# initializing string\n",
    "texto = \"PDO@2021UNIF@i\"\n",
    "  \n",
    "# encoding GeeksforGeeks using encode()\n",
    "# then sending to md5()\n",
    "result = hashlib.md5(texto.encode())\n",
    "  \n",
    "# printing the equivalent hexadecimal value.\n",
    "print(\"The hexadecimal equivalent of hash is : \", end =\"\")\n",
    "print(result.hexdigest())"
   ]
  },
  {
   "cell_type": "markdown",
   "id": "c5b30651",
   "metadata": {},
   "source": [
    "# SHA-1 "
   ]
  },
  {
   "cell_type": "code",
   "execution_count": 9,
   "id": "e78657f7",
   "metadata": {},
   "outputs": [
    {
     "name": "stdout",
     "output_type": "stream",
     "text": [
      "\n",
      " 4cd9f35ae800d4bffdd756527d605f14df00e925 \n",
      "\n"
     ]
    }
   ],
   "source": [
    "# import the library module\n",
    "import hashlib\n",
    " \n",
    "# initialize a string\n",
    "str = \"Aula de PDI é mais legal quando tem o RAfael\"\n",
    " \n",
    "# encode the string\n",
    "encoded_str = str.encode()\n",
    " \n",
    "# create a sha1 hash object initialized with the encoded string\n",
    "hash_obj = hashlib.sha1(encoded_str)\n",
    " \n",
    "# convert the hash object to a hexadecimal value\n",
    "hexa_value = hash_obj.hexdigest()\n",
    " \n",
    "# print\n",
    "print(\"\\n\", hexa_value, \"\\n\")"
   ]
  },
  {
   "cell_type": "markdown",
   "id": "b43916bd",
   "metadata": {},
   "source": [
    "# "
   ]
  },
  {
   "cell_type": "code",
   "execution_count": 70,
   "id": "a5d7688a",
   "metadata": {},
   "outputs": [
    {
     "name": "stdout",
     "output_type": "stream",
     "text": [
      "i\n",
      "d\n",
      "f\n",
      "d\n"
     ]
    }
   ],
   "source": [
    "alfabeto = ['a','b','c','d','e','f','g','h','i']\n",
    "n_deslocamento = 3\n",
    "txt = 'faca'\n",
    "\n",
    "for letra in txt:\n",
    "    pos = alfabeto.index(letra)\n",
    "    print(alfabeto[pos+n_deslocamento])"
   ]
  }
 ],
 "metadata": {
  "kernelspec": {
   "display_name": "Python 3",
   "language": "python",
   "name": "python3"
  },
  "language_info": {
   "codemirror_mode": {
    "name": "ipython",
    "version": 3
   },
   "file_extension": ".py",
   "mimetype": "text/x-python",
   "name": "python",
   "nbconvert_exporter": "python",
   "pygments_lexer": "ipython3",
   "version": "3.8.8"
  }
 },
 "nbformat": 4,
 "nbformat_minor": 5
}
